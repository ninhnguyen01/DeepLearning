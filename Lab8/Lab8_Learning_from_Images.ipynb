{
  "nbformat": 4,
  "nbformat_minor": 0,
  "metadata": {
    "colab": {
      "provenance": [],
      "collapsed_sections": [],
      "toc_visible": true
    },
    "kernelspec": {
      "name": "python3",
      "display_name": "Python 3"
    },
    "language_info": {
      "name": "python"
    },
    "gpuClass": "standard"
  },
  "cells": [
    {
      "cell_type": "markdown",
      "metadata": {
        "id": "13Ewpcs3Nv9t"
      },
      "source": [
        "#Lab 8: Learning from Images\n",
        "\n",
        "---\n"
      ]
    },
    {
      "cell_type": "markdown",
      "source": [
        "## Part 1: Butterfly Classification <br>\n",
        "Train, Test data set for 10 butterfly species. All images are 224 X 224 X 3 in jpg format."
      ],
      "metadata": {
        "id": "XOjk_ZR__4TK"
      }
    },
    {
      "cell_type": "code",
      "source": [
        "# Mounting Google Drive\n",
        "from google.colab import drive\n",
        "drive.mount('/content/drive')"
      ],
      "metadata": {
        "colab": {
          "base_uri": "https://localhost:8080/"
        },
        "id": "U2-gwKCbEvSj",
        "outputId": "3587ffae-33e6-4398-86f3-acb234add213"
      },
      "execution_count": null,
      "outputs": [
        {
          "output_type": "stream",
          "name": "stdout",
          "text": [
            "Drive already mounted at /content/drive; to attempt to forcibly remount, call drive.mount(\"/content/drive\", force_remount=True).\n"
          ]
        }
      ]
    },
    {
      "cell_type": "code",
      "source": [
        "# Import libraries\n",
        "import pandas as pd\n",
        "from sklearn.model_selection import train_test_split\n",
        "from matplotlib import pyplot as plt\n",
        "from sklearn.metrics import plot_confusion_matrix\n",
        "from sklearn.metrics import classification_report\n",
        "import numpy as np\n",
        "\n",
        "from sklearn import preprocessing\n",
        "from sklearn.metrics import confusion_matrix\n",
        "from sklearn.preprocessing import StandardScaler\n",
        "from itertools import chain\n",
        "import torch\n",
        "import torch.nn as nn\n",
        "import torch.optim as optim\n",
        "from torchvision import datasets, transforms\n",
        "from torchvision.datasets import ImageFolder"
      ],
      "metadata": {
        "id": "AafvpfG-PXbJ"
      },
      "execution_count": null,
      "outputs": []
    },
    {
      "cell_type": "code",
      "source": [
        "# Define the image preprocessing pipeline\n",
        "Butterfly_trans = transforms.Compose([        # composes several transforms together\n",
        "    transforms.Resize((224, 224)),\n",
        "    transforms.ToTensor() # ToTensor() converts images to a torch.FloatTensor of shape (C x H x W) in the range [0.0, 1.0]\n",
        "])"
      ],
      "metadata": {
        "id": "GHfO4K8xLs2l"
      },
      "execution_count": null,
      "outputs": []
    },
    {
      "cell_type": "code",
      "source": [
        "# Loading images and pass the images through our preprocessing pipeline\n",
        "train_butterfly10 = ImageFolder('/content/drive/MyDrive/DL_data/train_top10', transform=Butterfly_trans)\n",
        "test_butterfly10 = ImageFolder('/content/drive/MyDrive/DL_data/test_top10', transform=Butterfly_trans)"
      ],
      "metadata": {
        "id": "4UMwBT2K8RCn"
      },
      "execution_count": null,
      "outputs": []
    },
    {
      "cell_type": "code",
      "source": [
        "len(train_butterfly10.classes)"
      ],
      "metadata": {
        "colab": {
          "base_uri": "https://localhost:8080/"
        },
        "id": "Ej7VX-iy9VzF",
        "outputId": "93575d99-c12b-4260-f4f8-f2be121c4305"
      },
      "execution_count": null,
      "outputs": [
        {
          "output_type": "execute_result",
          "data": {
            "text/plain": [
              "10"
            ]
          },
          "metadata": {},
          "execution_count": 48
        }
      ]
    },
    {
      "cell_type": "code",
      "source": [
        "# Examine the sizes of training and test data\n",
        "print(len(train_butterfly10), len(test_butterfly10))"
      ],
      "metadata": {
        "colab": {
          "base_uri": "https://localhost:8080/"
        },
        "outputId": "57214de0-32a3-48ef-9a24-d434f71d06ec",
        "id": "MMbLKPavMReE"
      },
      "execution_count": null,
      "outputs": [
        {
          "output_type": "stream",
          "name": "stdout",
          "text": [
            "1175 50\n"
          ]
        }
      ]
    },
    {
      "cell_type": "code",
      "execution_count": null,
      "metadata": {
        "id": "40W2zkgVMReE"
      },
      "outputs": [],
      "source": [
        "class_names = ['AN 88','BLUE MORPHO','COMMON WOOD-NYMPH','MONARCH','PEACOCK','PIPEVINE SWALLOW','ULYSES','VICEROY','YELLOW SWALLOW TAIL','ZEBRA LONG WING']\n",
        "\n",
        "fig = plt.figure(figsize=(15,5))\n",
        "num_classes = 10\n",
        "for i in range(num_classes):\n",
        "    ax = fig.add_subplot(2, 5, 1 + i, xticks=[], yticks=[])\n",
        "    ax.set_title(class_names[i])\n",
        "    img = next(img for img, label in test_butterfly10 if label == i)\n",
        "    plt.imshow(img.permute(1, 2, 0))\n",
        "plt.show()"
      ]
    },
    {
      "cell_type": "code",
      "source": [
        "# Examine the tensor of a zebra long wing image\n"
      ],
      "metadata": {
        "id": "ylMyRHQyMReE"
      },
      "execution_count": null,
      "outputs": []
    },
    {
      "cell_type": "code",
      "source": [
        "# Examine the mean and std of images in the training data\n"
      ],
      "metadata": {
        "id": "IKZYjNQ6MReE"
      },
      "execution_count": null,
      "outputs": []
    },
    {
      "cell_type": "code",
      "source": [
        "# Define the image preprocessing pipeline to include normalization\n"
      ],
      "metadata": {
        "id": "1jUzgvzrMReE"
      },
      "execution_count": null,
      "outputs": []
    },
    {
      "cell_type": "code",
      "source": [
        "# Loading images and pass the images through our preprocessing pipeline\n"
      ],
      "metadata": {
        "id": "LoxYkb76MReE"
      },
      "execution_count": null,
      "outputs": []
    },
    {
      "cell_type": "code",
      "source": [
        "# Define training and testing data loader, and set batch size to 128\n"
      ],
      "metadata": {
        "id": "xxo3lYcXMReF"
      },
      "execution_count": null,
      "outputs": []
    },
    {
      "cell_type": "code",
      "source": [
        "# Build a neural network on training data\n"
      ],
      "metadata": {
        "id": "DhA3KH1UMReF"
      },
      "execution_count": null,
      "outputs": []
    },
    {
      "cell_type": "code",
      "source": [
        "# Define training loop function\n"
      ],
      "metadata": {
        "id": "9xjfY0HtMReF"
      },
      "execution_count": null,
      "outputs": []
    },
    {
      "cell_type": "code",
      "source": [
        "# Model training\n"
      ],
      "metadata": {
        "id": "2kvm5l0ZMReF"
      },
      "execution_count": null,
      "outputs": []
    },
    {
      "cell_type": "code",
      "source": [
        "# Define testing function\n"
      ],
      "metadata": {
        "id": "f8pduIMTMReF"
      },
      "execution_count": null,
      "outputs": []
    },
    {
      "cell_type": "code",
      "source": [
        "# Examine evaluation results\n"
      ],
      "metadata": {
        "id": "5nQEZpATMReF"
      },
      "execution_count": null,
      "outputs": []
    },
    {
      "cell_type": "markdown",
      "source": [
        "## Part 2: Image Classification with Fashion-MNIST "
      ],
      "metadata": {
        "id": "InSsZxe9KN-s"
      }
    },
    {
      "cell_type": "markdown",
      "source": [
        "Fashion-MNIST is a dataset consisting of a training set of 60,000 examples and a test set of 10,000 examples. <br>\n",
        "Each example is a 28x28 grayscale image, associated with a label from 10 classes. (https://github.com/zalandoresearch/fashion-mnist) <br>\n",
        "<br>\n",
        "\n",
        "Label Description<br>\n",
        "Each training and test example is assigned to one of the following labels:<br>\n",
        "\n",
        "0\tT-shirt/top<br>\n",
        "1\tTrouser<br>\n",
        "2\tPullover<br>\n",
        "3\tDress<br>\n",
        "4\tCoat<br>\n",
        "5\tSandal<br>\n",
        "6\tShirt<br>\n",
        "7\tSneaker<br>\n",
        "8\tBag<br>\n",
        "9\tAnkle boot<br>"
      ],
      "metadata": {
        "id": "OD3bbWXfH61O"
      }
    },
    {
      "cell_type": "code",
      "source": [
        "# Define the image preprocessing pipeline\n",
        "MNIST_transform = transforms.Compose([transforms.ToTensor()]) # composes several transforms together"
      ],
      "metadata": {
        "id": "IjMcMX2hGo-X"
      },
      "execution_count": null,
      "outputs": []
    },
    {
      "cell_type": "code",
      "source": [
        "# Loading images and pass the images through our preprocessing pipeline\n",
        "train_data = datasets.FashionMNIST('/content/drive/MyDrive/DL_data', download = True, train = True, transform=MNIST_transform)\n",
        "test_data = datasets.FashionMNIST('/content/drive/MyDrive/DL_data', download = True, train = False, transform=MNIST_transform)"
      ],
      "metadata": {
        "id": "cd80inIKCfzS"
      },
      "execution_count": null,
      "outputs": []
    },
    {
      "cell_type": "code",
      "source": [
        "# Examine the sizes of training and test data\n",
        "print(len(train_data), len(test_data))"
      ],
      "metadata": {
        "id": "b0YM2HPsPXVb"
      },
      "execution_count": null,
      "outputs": []
    },
    {
      "cell_type": "code",
      "source": [
        "# Display an example image for each class\n",
        "class_names = ['T-shirt/top','Trouser','Pullover','Dress','Coat','Sandal','Shirt','Sneaker','Bag','Ankle boot']\n",
        "\n",
        "fig = plt.figure(figsize=(8,3))\n",
        "num_classes = 10\n",
        "for i in range(num_classes):\n",
        "    ax = fig.add_subplot(2, 5, 1 + i, xticks=[], yticks=[])\n",
        "    ax.set_title(class_names[i])\n",
        "    img = next(img for img, label in test_data if label == i)\n",
        "    plt.imshow(np.squeeze(img), cmap='gray')\n",
        "plt.show()"
      ],
      "metadata": {
        "id": "odWzWj_eDW4R"
      },
      "execution_count": null,
      "outputs": []
    },
    {
      "cell_type": "code",
      "source": [
        "# Examine the tensor of a Ankle boot image\n",
        "print(img.shape)\n",
        "print(img)"
      ],
      "metadata": {
        "id": "CgifmBj7_GrM"
      },
      "execution_count": null,
      "outputs": []
    },
    {
      "cell_type": "code",
      "source": [
        "# Examine the mean and std of images in the training data\n"
      ],
      "metadata": {
        "id": "Fb6s6L9z-qv-"
      },
      "execution_count": null,
      "outputs": []
    },
    {
      "cell_type": "code",
      "source": [
        "# Define the image preprocessing pipeline to include normalization\n"
      ],
      "metadata": {
        "id": "_ZesECI2PXYi"
      },
      "execution_count": null,
      "outputs": []
    },
    {
      "cell_type": "code",
      "source": [
        "# Loading images and pass the images through our preprocessing pipeline\n"
      ],
      "metadata": {
        "id": "G_KjaUePHCc1"
      },
      "execution_count": null,
      "outputs": []
    },
    {
      "cell_type": "code",
      "source": [
        "# Define training and testing data loader, and set batch size to 256\n"
      ],
      "metadata": {
        "id": "Iy8v7U0wPXTF"
      },
      "execution_count": null,
      "outputs": []
    },
    {
      "cell_type": "code",
      "source": [
        "# Build a neural network on training data\n"
      ],
      "metadata": {
        "id": "pkQbTaOKPXM2"
      },
      "execution_count": null,
      "outputs": []
    },
    {
      "cell_type": "code",
      "source": [
        "# Define training loop function\n"
      ],
      "metadata": {
        "id": "9CTVtk5sPXKA"
      },
      "execution_count": null,
      "outputs": []
    },
    {
      "cell_type": "code",
      "source": [
        "# Model training\n"
      ],
      "metadata": {
        "id": "t2QiLOjzPW89"
      },
      "execution_count": null,
      "outputs": []
    },
    {
      "cell_type": "code",
      "source": [
        "# Define testing function\n"
      ],
      "metadata": {
        "id": "HWs0zRoLU7yl"
      },
      "execution_count": null,
      "outputs": []
    },
    {
      "cell_type": "code",
      "source": [
        "# Examine evaluation results\n"
      ],
      "metadata": {
        "id": "0RJjJhfpX_uT"
      },
      "execution_count": null,
      "outputs": []
    },
    {
      "cell_type": "markdown",
      "source": [
        "## Part 3: Image Classification with CIFAR-10 data <br>\n",
        "CIFAR-10 data:CIFAR-10 consists of 60,000 tiny 32 × 32 color (RGB) images, labeled with an integer corresponding to 1 of 10 classes:  <br><br>\n",
        "0: airplane <br>\n",
        "1: automobile<br>\n",
        "2: bird <br>\n",
        "3: cat<br>\n",
        "4: deer<br>\n",
        "5: dog<br>\n",
        "6: frog<br>\n",
        "7: horse<br>\n",
        "8: ship<br>\n",
        "9: truck<br>"
      ],
      "metadata": {
        "id": "MtgIljtYpAk3"
      }
    },
    {
      "cell_type": "code",
      "source": [
        "# Define the image preprocessing pipeline\n",
        "cifar10_transform = transforms.Compose([transforms.ToTensor()]) # composes several transforms together"
      ],
      "metadata": {
        "id": "Mfff_X0brYnS"
      },
      "execution_count": null,
      "outputs": []
    },
    {
      "cell_type": "code",
      "execution_count": null,
      "metadata": {
        "id": "4-2Etk9CqfD1"
      },
      "outputs": [],
      "source": [
        "# Loading images and pass the images through our preprocessing pipeline\n",
        "train_cifar10 = datasets.CIFAR10('/content/drive/MyDrive/DL_data', train=True, download=True, transform=cifar10_transform)\n",
        "test_cifar10 = datasets.CIFAR10('/content/drive/MyDrive/DL_data', train=False, download=True, transform=cifar10_transform)"
      ]
    },
    {
      "cell_type": "code",
      "source": [
        "# Examine the sizes of training and test data\n",
        "print(len(train_cifar10), len(test_cifar10))"
      ],
      "metadata": {
        "id": "DdjW6zVjseoO"
      },
      "execution_count": null,
      "outputs": []
    },
    {
      "cell_type": "code",
      "execution_count": null,
      "metadata": {
        "id": "ZYoR13-yqfD1"
      },
      "outputs": [],
      "source": [
        "class_names = ['airplane','automobile','bird','cat','deer','dog','frog','horse','ship','truck']\n",
        "\n",
        "fig = plt.figure(figsize=(8,3))\n",
        "num_classes = 10\n",
        "for i in range(num_classes):\n",
        "    ax = fig.add_subplot(2, 5, 1 + i, xticks=[], yticks=[])\n",
        "    ax.set_title(class_names[i])\n",
        "    img = next(img for img, label in train_cifar10 if label == i)\n",
        "    plt.imshow(img.permute(1, 2, 0)) # torch.Size([32, 32, 3])\n",
        "plt.show()"
      ]
    },
    {
      "cell_type": "code",
      "source": [
        "# Examine the tensor of a truck image\n",
        "print(img.shape)\n",
        "print(img)"
      ],
      "metadata": {
        "id": "-orOxGL6sm9V"
      },
      "execution_count": null,
      "outputs": []
    },
    {
      "cell_type": "code",
      "source": [
        "# Examine the mean and std of images in the training data\n"
      ],
      "metadata": {
        "id": "195dU-qOuFHu"
      },
      "execution_count": null,
      "outputs": []
    },
    {
      "cell_type": "code",
      "source": [
        "# Define the image preprocessing pipeline to include normalization\n"
      ],
      "metadata": {
        "id": "bmmKCH0tuFHu"
      },
      "execution_count": null,
      "outputs": []
    },
    {
      "cell_type": "code",
      "source": [
        "# Loading images and pass the images through our preprocessing pipeline\n"
      ],
      "metadata": {
        "id": "py8PGErduFHu"
      },
      "execution_count": null,
      "outputs": []
    },
    {
      "cell_type": "code",
      "source": [
        "# Define training and testing data loader, and set batch size to 256\n"
      ],
      "metadata": {
        "id": "eq-fP6aBuFHu"
      },
      "execution_count": null,
      "outputs": []
    },
    {
      "cell_type": "code",
      "source": [
        "# Build a neural network on training data\n"
      ],
      "metadata": {
        "id": "H_3FcGsZvPUi"
      },
      "execution_count": null,
      "outputs": []
    },
    {
      "cell_type": "code",
      "source": [
        "# Define training loop function\n"
      ],
      "metadata": {
        "id": "ALeNCCInvPUj"
      },
      "execution_count": null,
      "outputs": []
    },
    {
      "cell_type": "code",
      "source": [
        "# Model training\n"
      ],
      "metadata": {
        "id": "ThtuiA6OvPUj"
      },
      "execution_count": null,
      "outputs": []
    },
    {
      "cell_type": "code",
      "source": [
        "# Define testing function\n"
      ],
      "metadata": {
        "id": "DqsdJKQXvPUj"
      },
      "execution_count": null,
      "outputs": []
    },
    {
      "cell_type": "code",
      "source": [
        "# Examine evaluation results\n"
      ],
      "metadata": {
        "id": "SkxHLX6qvPUj"
      },
      "execution_count": null,
      "outputs": []
    },
    {
      "cell_type": "code",
      "source": [
        "# Generate a html file\n",
        "!jupyter nbconvert --to html \"/content/drive/MyDrive/DL_lab/Lab8:Learning_from_Images.ipynb\""
      ],
      "metadata": {
        "id": "5pITQiF7G_9x"
      },
      "execution_count": null,
      "outputs": []
    }
  ]
}