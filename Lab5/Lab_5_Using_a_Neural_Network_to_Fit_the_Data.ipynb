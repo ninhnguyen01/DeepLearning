{
  "nbformat": 4,
  "nbformat_minor": 0,
  "metadata": {
    "colab": {
      "provenance": [],
      "collapsed_sections": [],
      "toc_visible": true
    },
    "kernelspec": {
      "name": "python3",
      "display_name": "Python 3"
    },
    "language_info": {
      "name": "python"
    },
    "gpuClass": "standard"
  },
  "cells": [
    {
      "cell_type": "markdown",
      "metadata": {
        "id": "13Ewpcs3Nv9t"
      },
      "source": [
        "#Lab 5: Using a Neural Network to Fit the Data\n",
        "\n",
        "---"
      ]
    },
    {
      "cell_type": "markdown",
      "source": [
        "## Parameter estimation"
      ],
      "metadata": {
        "id": "jU1YviU_chC7"
      }
    },
    {
      "cell_type": "code",
      "execution_count": null,
      "metadata": {
        "pycharm": {
          "is_executing": false
        },
        "id": "YzkEvLzob3dW"
      },
      "outputs": [],
      "source": [
        "# Import libraries\n",
        "import torch\n",
        "from matplotlib import pyplot as plt"
      ]
    },
    {
      "cell_type": "code",
      "execution_count": null,
      "metadata": {
        "pycharm": {
          "is_executing": false
        },
        "id": "5etPgqkUb3dY"
      },
      "outputs": [],
      "source": [
        "# The t_c values are temperatures in Celsius\n",
        "# The t_u values are read from our new thermometer with unknown units\n",
        "\n",
        "t_c = [0.5,  14.0, 15.0, 28.0, 11.0,  8.0,  3.0, -4.0,  6.0, 13.0, 21.0]\n",
        "t_u = [32.9, 57.2, 59.0, 82.4, 51.8, 46.4, 37.4, 24.8, 42.8, 55.4, 69.8]\n",
        "t_c = torch.tensor(t_c)\n",
        "t_u = torch.tensor(t_u)"
      ]
    },
    {
      "cell_type": "code",
      "execution_count": null,
      "metadata": {
        "id": "Z-QY8NJZb3dg"
      },
      "outputs": [],
      "source": [
        "# Plot data\n",
        "fig = plt.figure(dpi=200) # dpi: resolution of the figure\n",
        "plt.xlabel(\"Measurement\")\n",
        "plt.ylabel(\"Temperature (°Celsius)\")\n",
        "plt.plot(t_u, t_c, 'o')"
      ]
    },
    {
      "cell_type": "code",
      "execution_count": null,
      "metadata": {
        "pycharm": {
          "is_executing": false
        },
        "id": "prvYMQltb3dZ"
      },
      "outputs": [],
      "source": [
        "# Define the model as a Python function\n"
      ]
    },
    {
      "cell_type": "code",
      "execution_count": null,
      "metadata": {
        "pycharm": {
          "is_executing": false
        },
        "id": "VIMcLowcb3dZ"
      },
      "outputs": [],
      "source": [
        "# Define the loss function\n"
      ]
    },
    {
      "cell_type": "code",
      "execution_count": null,
      "metadata": {
        "pycharm": {
          "is_executing": false
        },
        "id": "KZAQ5aw_b3da"
      },
      "outputs": [],
      "source": [
        "# Initialize the parameters and invoke the model\n"
      ]
    },
    {
      "cell_type": "code",
      "execution_count": null,
      "metadata": {
        "pycharm": {
          "is_executing": false
        },
        "id": "n5FlZb_Xb3db"
      },
      "outputs": [],
      "source": [
        "# Check the value of the loss\n"
      ]
    },
    {
      "cell_type": "code",
      "execution_count": null,
      "metadata": {
        "pycharm": {
          "is_executing": false
        },
        "id": "BN8xJfMAb3dd"
      },
      "outputs": [],
      "source": [
        "def dloss_fn(t_p, t_c):\n",
        "    dsq_diffs = 2 * (t_p - t_c)\n",
        "    return dsq_diffs"
      ]
    },
    {
      "cell_type": "code",
      "execution_count": null,
      "metadata": {
        "pycharm": {
          "is_executing": false
        },
        "id": "zWfumfcxb3dd"
      },
      "outputs": [],
      "source": [
        "def dmodel_dw(t_u, w, b):\n",
        "    return t_u"
      ]
    },
    {
      "cell_type": "code",
      "execution_count": null,
      "metadata": {
        "pycharm": {
          "is_executing": false
        },
        "id": "ZVfPyXSWb3de"
      },
      "outputs": [],
      "source": [
        "def dmodel_db(t_u, w, b):\n",
        "    return 1.0"
      ]
    },
    {
      "cell_type": "code",
      "execution_count": null,
      "metadata": {
        "pycharm": {
          "is_executing": false
        },
        "id": "ibpmGGznb3de"
      },
      "outputs": [],
      "source": [
        "# Define the gradient function \n",
        "def grad_fn(t_u, t_c, t_p, w, b):\n",
        "    dloss_dtp = dloss_fn(t_p, t_c)\n",
        "    dloss_dw = dloss_dtp * dmodel_dw(t_u, w, b)\n",
        "    dloss_db = dloss_dtp * dmodel_db(t_u, w, b)\n",
        "    return torch.stack([dloss_dw.mean(), dloss_db.mean()]) "
      ]
    },
    {
      "cell_type": "code",
      "execution_count": null,
      "metadata": {
        "pycharm": {
          "is_executing": false
        },
        "id": "G98jgfQWb3de"
      },
      "outputs": [],
      "source": [
        "# The complete training loop\n",
        "def training_loop(n_epochs, learning_rate, params, t_u, t_c, print_params=True):\n",
        "    for epoch in range(1, n_epochs + 1):\n",
        "        w, b = params\n",
        "\n",
        "        t_p = model(t_u, w, b)  # Forward pass\n",
        "        loss = loss_fn(t_p, t_c)\n",
        "        grad = grad_fn(t_u, t_c, t_p, w, b)  # Backward pass\n",
        "\n",
        "        params = params - learning_rate * grad\n",
        "\n",
        "\n",
        "        if epoch in {1, 2, 3, 10, 11, 99, 100, 4000, 5000, 10000, 100000}:\n",
        "            print('Epoch %d, Loss %f' % (epoch, float(loss)))\n",
        "            print('    Params:', params)\n",
        "            print('    Grad:  ', grad)\n",
        "        if epoch in {4, 12, 101}:\n",
        "            print('...')\n",
        "\n",
        "    return params"
      ]
    },
    {
      "cell_type": "code",
      "execution_count": null,
      "metadata": {
        "pycharm": {
          "is_executing": false
        },
        "id": "tK60f7Onb3df"
      },
      "outputs": [],
      "source": [
        "# The model diverges instead of converging to a minimum with large learning rate\n"
      ]
    },
    {
      "cell_type": "code",
      "execution_count": null,
      "metadata": {
        "pycharm": {
          "is_executing": false
        },
        "id": "k8ar0Szlb3df"
      },
      "outputs": [],
      "source": [
        "# Try a smaller learning rate\n"
      ]
    },
    {
      "cell_type": "code",
      "execution_count": null,
      "metadata": {
        "pycharm": {
          "is_executing": false
        },
        "scrolled": true,
        "id": "EqQj9Uwzb3dg"
      },
      "outputs": [],
      "source": [
        "# Training the model 100000 epochs\n"
      ]
    },
    {
      "cell_type": "code",
      "execution_count": null,
      "metadata": {
        "pycharm": {
          "is_executing": false
        },
        "scrolled": true,
        "id": "3yNi3yhNb3dg"
      },
      "outputs": [],
      "source": [
        "# Visualizing\n",
        "from matplotlib import pyplot as plt\n",
        "\n",
        "t_p = model(t_u, *params) #argument unpacking here: *params means to pass the elements of params as individual arguments. equivalent to model(t_un, params[0], params[1]).\n",
        "fig = plt.figure(dpi=200)\n",
        "plt.xlabel(\"Temperature (°Fahrenheit)\")\n",
        "plt.ylabel(\"Temperature (°Celsius)\")\n",
        "plt.plot(t_u, t_p.detach())\n",
        "plt.plot(t_u, t_c, 'o')"
      ]
    },
    {
      "cell_type": "markdown",
      "source": [
        "##PyTorch optimizer"
      ],
      "metadata": {
        "id": "mExZJUy7hyub"
      }
    },
    {
      "cell_type": "code",
      "execution_count": null,
      "metadata": {
        "id": "k8zsQCmDi5dZ"
      },
      "outputs": [],
      "source": [
        "import torch\n",
        "import torch.optim as optim\n",
        "dir(optim)"
      ]
    },
    {
      "cell_type": "code",
      "execution_count": null,
      "metadata": {
        "id": "TNmlUCuGi5dX"
      },
      "outputs": [],
      "source": [
        "t_c = [0.5,  14.0, 15.0, 28.0, 11.0,  8.0,  3.0, -4.0,  6.0, 13.0, 21.0]\n",
        "t_u = [32.9, 57.2, 59.0, 82.4, 51.8, 46.4, 37.4, 24.8, 42.8, 55.4, 69.8]\n",
        "t_c = torch.tensor(t_c)\n",
        "t_u = torch.tensor(t_u)"
      ]
    },
    {
      "cell_type": "code",
      "execution_count": null,
      "metadata": {
        "id": "nCV7PUDJi5dY"
      },
      "outputs": [],
      "source": [
        "# Define model\n"
      ]
    },
    {
      "cell_type": "code",
      "execution_count": null,
      "metadata": {
        "id": "01oeKq1Ui5dY"
      },
      "outputs": [],
      "source": [
        "# Define loss\n"
      ]
    },
    {
      "cell_type": "code",
      "execution_count": null,
      "metadata": {
        "id": "HwexkGcyi5dc"
      },
      "outputs": [],
      "source": [
        "# Define training loop\n"
      ]
    },
    {
      "cell_type": "code",
      "execution_count": null,
      "metadata": {
        "id": "z6iFSLxXi5dc"
      },
      "outputs": [],
      "source": [
        "# Define a SGD optimizer\n"
      ]
    },
    {
      "cell_type": "code",
      "execution_count": null,
      "metadata": {
        "id": "Hq_B9tbIi5dd"
      },
      "outputs": [],
      "source": [
        "# Using a Adam optimizer\n"
      ]
    },
    {
      "cell_type": "markdown",
      "source": [
        "## Training, testing, and overfitting"
      ],
      "metadata": {
        "id": "CoEdUWh1yJAV"
      }
    },
    {
      "cell_type": "code",
      "execution_count": null,
      "metadata": {
        "id": "v5AO7rKHi5dd",
        "outputId": "e6ea667d-2533-434d-a077-afedfafccc5b",
        "colab": {
          "base_uri": "https://localhost:8080/"
        }
      },
      "outputs": [
        {
          "output_type": "execute_result",
          "data": {
            "text/plain": [
              "(tensor([10,  0,  4,  3,  5,  8,  2,  1,  9]), tensor([7, 6]))"
            ]
          },
          "metadata": {},
          "execution_count": 26
        }
      ],
      "source": [
        "# Split the data into a training set and a testing set\n",
        "torch.manual_seed(0)\n",
        "\n",
        "n_samples = t_u.shape[0]\n",
        "n_test = int(0.2 * n_samples)\n",
        "\n",
        "shuffled_indices = torch.randperm(n_samples)\n",
        "\n",
        "train_indices = shuffled_indices[:-n_test]\n",
        "test_indices = shuffled_indices[-n_test:]\n",
        "\n",
        "train_indices, test_indices"
      ]
    },
    {
      "cell_type": "code",
      "execution_count": null,
      "metadata": {
        "id": "NjYq06S-i5de"
      },
      "outputs": [],
      "source": [
        "train_t_u = t_u[train_indices]\n",
        "train_t_c = t_c[train_indices]\n",
        "\n",
        "test_t_u = t_u[test_indices]\n",
        "test_t_c = t_c[test_indices]"
      ]
    },
    {
      "cell_type": "code",
      "execution_count": null,
      "metadata": {
        "id": "tnMDaYkzi5de"
      },
      "outputs": [],
      "source": [
        "# Define training loop\n",
        "def training_loop(n_epochs, optimizer, params, train_t_u, test_t_u, train_t_c, test_t_c):\n",
        "    for epoch in range(1, n_epochs + 1):\n",
        "        train_t_p = model(train_t_u, *params)\n",
        "        train_loss = loss_fn(train_t_p, train_t_c)\n",
        "                             \n",
        "        test_t_p = model(test_t_u, *params)\n",
        "        test_loss = loss_fn(test_t_p, test_t_c)\n",
        "        \n",
        "        optimizer.zero_grad()\n",
        "        train_loss.backward()\n",
        "        optimizer.step()\n",
        "\n",
        "        if epoch <= 3 or epoch % 5000 == 0:\n",
        "            print(f\"Epoch {epoch}, Training loss {train_loss.item():.4f},\"f\" Testing loss {test_loss.item():.4f}\")\n",
        "            \n",
        "    return params"
      ]
    },
    {
      "cell_type": "code",
      "execution_count": null,
      "metadata": {
        "id": "DTzhiBAOi5de"
      },
      "outputs": [],
      "source": [
        "# Model training and testing\n"
      ]
    },
    {
      "cell_type": "code",
      "source": [
        "# Mounting Google Drive\n",
        "from google.colab import drive\n",
        "drive.mount('/content/drive')"
      ],
      "metadata": {
        "id": "5duxYOcm0nUD"
      },
      "execution_count": null,
      "outputs": []
    },
    {
      "cell_type": "code",
      "source": [
        "!jupyter nbconvert --to html \"/content/drive/MyDrive/DL_lab/Lab_5_Using_a_Neural_Network_to_Fit_the_Data.ipynb\""
      ],
      "metadata": {
        "id": "5CIjLg030hA8"
      },
      "execution_count": null,
      "outputs": []
    }
  ]
}