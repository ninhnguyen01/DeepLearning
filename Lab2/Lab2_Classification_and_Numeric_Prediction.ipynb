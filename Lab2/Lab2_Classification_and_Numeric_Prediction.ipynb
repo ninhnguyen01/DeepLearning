{
  "nbformat": 4,
  "nbformat_minor": 0,
  "metadata": {
    "colab": {
      "name": "Lab2: Classification and Numeric Prediction.ipynb",
      "provenance": [],
      "collapsed_sections": [],
      "toc_visible": true
    },
    "kernelspec": {
      "name": "python3",
      "display_name": "Python 3"
    },
    "language_info": {
      "name": "python"
    }
  },
  "cells": [
    {
      "cell_type": "markdown",
      "metadata": {
        "id": "_YEHhu06X2im"
      },
      "source": [
        "#Lab2: Classification and Numeric Prediction\n",
        "\n",
        "---"
      ]
    },
    {
      "cell_type": "markdown",
      "source": [
        "## Part 1: Classification"
      ],
      "metadata": {
        "id": "AYIrh73dtsfW"
      }
    },
    {
      "cell_type": "markdown",
      "metadata": {
        "id": "6jFjFMqAX-yp"
      },
      "source": [
        "This data set contains information of cars purchased at the Auction.\n",
        "<br>\n",
        "We will use this file to predict the quality of buying decisions and visualize decision processes.\n",
        "<br>\n",
        "<br>\n",
        "VARIABLE DESCRIPTIONS:<br>\n",
        "Auction: Auction provider at which the  vehicle was purchased<br>\n",
        "Color: Vehicle Color<br>\n",
        "IsBadBuy: Identifies if the kicked vehicle was an avoidable purchase<br>\n",
        "MMRCurrentAuctionAveragePrice: Acquisition price for this vehicle in average condition as of current day<br>\n",
        "Size: The size category of the vehicle (Compact, SUV, etc.)<br>\n",
        "TopThreeAmericanName:Identifies if the manufacturer is one of the top three American manufacturers<br>\n",
        "VehBCost: Acquisition cost paid for the vehicle at time of purchase<br>\n",
        "VehicleAge: The Years elapsed since the manufacturer's year<br>\n",
        "VehOdo: The vehicles odometer reading<br>\n",
        "WarrantyCost: Warranty price (term=36month  and millage=36K)<br>\n",
        "WheelType: The vehicle wheel type description (Alloy, Covers)<br>\n",
        "<br>\n",
        "Target variable: **IsBadBuy**"
      ]
    },
    {
      "cell_type": "markdown",
      "metadata": {
        "id": "D6UCBjrtG-g6"
      },
      "source": [
        "###1. Upload and clean data"
      ]
    },
    {
      "cell_type": "code",
      "source": [
        "# Mounting Google Drive\n",
        "from google.colab import drive\n",
        "drive.mount('/content/drive')"
      ],
      "metadata": {
        "colab": {
          "base_uri": "https://localhost:8080/"
        },
        "id": "-5vlFjOet49B",
        "outputId": "6cd6e970-bd26-44b9-fc05-30f0978af998"
      },
      "execution_count": null,
      "outputs": [
        {
          "output_type": "stream",
          "name": "stdout",
          "text": [
            "Mounted at /content/drive\n"
          ]
        }
      ]
    },
    {
      "cell_type": "code",
      "metadata": {
        "id": "4db5s5prM1z8"
      },
      "source": [
        "# Import libraries\n",
        "import pandas as pd\n",
        "from sklearn.model_selection import train_test_split\n",
        "from matplotlib import pyplot as plt\n",
        "from sklearn import tree\n",
        "from sklearn.tree import DecisionTreeClassifier\n",
        "from sklearn.metrics import plot_confusion_matrix\n",
        "from sklearn.metrics import classification_report"
      ],
      "execution_count": null,
      "outputs": []
    },
    {
      "cell_type": "code",
      "metadata": {
        "id": "Z7vBYMeBG0ZE"
      },
      "source": [
        "# Read data\n",
        "carAuction = pd.read_csv(\"/content/drive/MyDrive/DL_data/carAuction.csv\")\n",
        "carAuction"
      ],
      "execution_count": null,
      "outputs": []
    },
    {
      "cell_type": "code",
      "metadata": {
        "id": "LiI3pabsNeRG"
      },
      "source": [
        "# Show the head rows of a data frame\n",
        "carAuction.head()"
      ],
      "execution_count": null,
      "outputs": []
    },
    {
      "cell_type": "code",
      "metadata": {
        "id": "Sxp6-L5nNeRH"
      },
      "source": [
        "# Examine variable type\n",
        "carAuction.dtypes"
      ],
      "execution_count": null,
      "outputs": []
    },
    {
      "cell_type": "code",
      "metadata": {
        "id": "0Tdv67wRNeRH"
      },
      "source": [
        "# Change categorical variables to \"category\"\n",
        "carAuction['Auction'] = carAuction['Auction'].astype('category')\n",
        "carAuction['Color'] = carAuction['Color'].astype('category')\n",
        "carAuction['IsBadBuy'] = carAuction['IsBadBuy'].astype('category')\n",
        "carAuction['Size'] = carAuction['Size'].astype('category')\n",
        "carAuction['TopThreeAmericanName'] = carAuction['TopThreeAmericanName'].astype('category')\n",
        "carAuction['WheelType'] = carAuction['WheelType'].astype('category')"
      ],
      "execution_count": null,
      "outputs": []
    },
    {
      "cell_type": "code",
      "metadata": {
        "id": "UPWSMKGRpWAj"
      },
      "source": [
        "# Examine variable type\n",
        "carAuction.dtypes"
      ],
      "execution_count": null,
      "outputs": []
    },
    {
      "cell_type": "markdown",
      "metadata": {
        "id": "a3baHs-sknIT"
      },
      "source": [
        "###2. Partition the data set for Decision Tree model"
      ]
    },
    {
      "cell_type": "code",
      "metadata": {
        "id": "PGheFILukrMR"
      },
      "source": [
        "# Create dummy variables\n"
      ],
      "execution_count": null,
      "outputs": []
    },
    {
      "cell_type": "code",
      "metadata": {
        "id": "UfxzlCPBnZ-4"
      },
      "source": [
        "# Partition the data to training and testing set\n"
      ],
      "execution_count": null,
      "outputs": []
    },
    {
      "cell_type": "code",
      "metadata": {
        "id": "j6Y5U91BoVmf"
      },
      "source": [
        "# Examine the porportion of target variable for training data set\n"
      ],
      "execution_count": null,
      "outputs": []
    },
    {
      "cell_type": "code",
      "metadata": {
        "id": "MasSsm8apCG-"
      },
      "source": [
        "# Examine the porportion of target variable for testing data set\n"
      ],
      "execution_count": null,
      "outputs": []
    },
    {
      "cell_type": "markdown",
      "metadata": {
        "id": "xt0XU6fmplzw"
      },
      "source": [
        "### 3. Decision Tree model prediction"
      ]
    },
    {
      "cell_type": "code",
      "metadata": {
        "id": "yi8FlSIQpB_X"
      },
      "source": [
        "# Build a decision tree model on training data with max_depth = 2\n"
      ],
      "execution_count": null,
      "outputs": []
    },
    {
      "cell_type": "code",
      "metadata": {
        "id": "2A9YDvIGp5KJ"
      },
      "source": [
        "# Plot the tree\n"
      ],
      "execution_count": null,
      "outputs": []
    },
    {
      "cell_type": "markdown",
      "metadata": {
        "id": "yV_fZfEgz9kt"
      },
      "source": [
        "Q1. Find one path in the tree to a leaf node that is classified to IsBadBuy = 'Yes'. What is this path/rule's misclassification error rate?<br>\n"
      ]
    },
    {
      "cell_type": "code",
      "metadata": {
        "id": "s3BPoqH0tuDd"
      },
      "source": [
        "# Make predictions on training and testing data\n"
      ],
      "execution_count": null,
      "outputs": []
    },
    {
      "cell_type": "code",
      "source": [
        "# Examine the evaluation results on training data: confusion_matrix\n"
      ],
      "metadata": {
        "id": "Zbgk3TSMTS4v"
      },
      "execution_count": null,
      "outputs": []
    },
    {
      "cell_type": "code",
      "metadata": {
        "id": "Mp2hbRzywpGd"
      },
      "source": [
        "# Examine the evaluation results on testing data: confusion_matrix\n"
      ],
      "execution_count": null,
      "outputs": []
    },
    {
      "cell_type": "markdown",
      "metadata": {
        "id": "kVT5kkDQ1aen"
      },
      "source": [
        "Q2. On the testing set, how many bad buy cars are predicted as Not bad buy?<br>\n"
      ]
    },
    {
      "cell_type": "code",
      "source": [
        "# Examine the evaluation results on training data: accuracy, precision, recall, and f1-score\n"
      ],
      "metadata": {
        "id": "rKKgzLnTTe4c"
      },
      "execution_count": null,
      "outputs": []
    },
    {
      "cell_type": "code",
      "metadata": {
        "id": "JnI7ioz-xBN0"
      },
      "source": [
        "# Examine the evaluation results on testing data: accuracy, precision, recall, and f1-score\n"
      ],
      "execution_count": null,
      "outputs": []
    },
    {
      "cell_type": "markdown",
      "metadata": {
        "id": "ahgldnbVzVuI"
      },
      "source": [
        "Q3. Does the decision tree model have better performance on majority (IsBadBuy = 'No') or minority class (IsBadBuy = 'Yes')? why? <br>\n",
        "\n"
      ]
    },
    {
      "cell_type": "code",
      "source": [
        "# Build a decision tree model on training data with max_depth = 10\n"
      ],
      "metadata": {
        "id": "kQ6H3f6TTong"
      },
      "execution_count": null,
      "outputs": []
    },
    {
      "cell_type": "code",
      "source": [
        "# Plot the tree\n"
      ],
      "metadata": {
        "id": "UuZdoeNxT015"
      },
      "execution_count": null,
      "outputs": []
    },
    {
      "cell_type": "code",
      "metadata": {
        "id": "Alr_GBwhT_uN"
      },
      "source": [
        "# Make predictions on training and testing data\n"
      ],
      "execution_count": null,
      "outputs": []
    },
    {
      "cell_type": "code",
      "source": [
        "# Examine the evaluation results on training data: confusion_matrix\n"
      ],
      "metadata": {
        "id": "ww8skeKaT_uO"
      },
      "execution_count": null,
      "outputs": []
    },
    {
      "cell_type": "code",
      "metadata": {
        "id": "cPhWEZMKT_uO"
      },
      "source": [
        "# Examine the evaluation results on testing data: confusion_matrix\n"
      ],
      "execution_count": null,
      "outputs": []
    },
    {
      "cell_type": "code",
      "source": [
        "# Examine the evaluation results on training data: accuracy, precision, recall, and f1-score\n"
      ],
      "metadata": {
        "id": "9p3FbS64T_uO"
      },
      "execution_count": null,
      "outputs": []
    },
    {
      "cell_type": "code",
      "metadata": {
        "id": "JvAjq3smT_uO"
      },
      "source": [
        "# Examine the evaluation results on testing data: accuracy, precision, recall, and f1-score\n"
      ],
      "execution_count": null,
      "outputs": []
    },
    {
      "cell_type": "markdown",
      "metadata": {
        "id": "0k8bwGOXtl-1"
      },
      "source": [
        "## Part 2: Numeric Prediction\n",
        "\n",
        "---"
      ]
    },
    {
      "cell_type": "markdown",
      "metadata": {
        "id": "DX4rHIxjtl-3"
      },
      "source": [
        "In order for a health insurance company to make money, it needs to collect more\n",
        "in yearly premiums than it spends on medical care to its beneficiaries. As a result, insurers invest a great deal of time and money in developing models that accurately forecast medical expenses for the insured population.<br>\n",
        "<br>\n",
        "Medical expenses are difficult to estimate because the most costly conditions are rare and seemingly random. Still, some conditions are more prevalent for certain segments of the population. For instance, lung cancer is more likely among smokers than non-smokers, and heart disease may be more likely among the obese.<br>\n",
        "<br>\n",
        "The goal of this analysis is to use patient data to estimate the average medical\n",
        "care expenses for such population segments. These estimates can be used to create actuarial tables that set the price of yearly premiums higher or lower, \n",
        "depending on the expected treatment costs.<br>\n",
        "<br>\n",
        "The insurance data set has 1338 observations of 7 variables.\n",
        "<br>\n",
        "We will use this file to predict the medical expenses.\n",
        "<br>\n",
        "<br>\n",
        "VARIABLE DESCRIPTIONS:<br>\n",
        "age:\t      age in years<br>\n",
        "sex:\t      gender<br>\n",
        "bmi:\t      body mass index<br>\n",
        "children:\thow many children do they have?<br>\n",
        "smoker:\t  do they smoke?<br>\n",
        "region:\t  geographic region<br>\n",
        "expenses:\tyearly medical expenses<br>\n",
        "<br>\n",
        "Target variable: **expenses**"
      ]
    },
    {
      "cell_type": "markdown",
      "metadata": {
        "id": "-xUY7mV8tl-3"
      },
      "source": [
        "### Upload and clean data"
      ]
    },
    {
      "cell_type": "code",
      "metadata": {
        "id": "LuoUv9latl-3"
      },
      "source": [
        "# Mounting Google Drive\n",
        "from google.colab import drive\n",
        "drive.mount('/content/drive')"
      ],
      "execution_count": null,
      "outputs": []
    },
    {
      "cell_type": "code",
      "metadata": {
        "id": "p_hJPEletl-3"
      },
      "source": [
        "# Import libraries\n",
        "! pip install regressors\n",
        "import pandas as pd\n",
        "import seaborn as sns\n",
        "from sklearn.model_selection import train_test_split\n",
        "from sklearn import linear_model\n",
        "from sklearn.tree import DecisionTreeRegressor\n",
        "from regressors import stats\n",
        "from sklearn.metrics import mean_squared_error\n",
        "from sklearn.metrics import mean_absolute_error"
      ],
      "execution_count": null,
      "outputs": []
    },
    {
      "cell_type": "code",
      "metadata": {
        "id": "SnBv5ogytl-4"
      },
      "source": [
        "# Read data\n",
        "insurance = pd.read_csv(\"/content/drive/MyDrive/DL_data/insurance.csv\")\n",
        "insurance"
      ],
      "execution_count": null,
      "outputs": []
    },
    {
      "cell_type": "code",
      "metadata": {
        "id": "qjNbhdYLtl-4"
      },
      "source": [
        "# Show the head rows of a data frame\n",
        "insurance.head()"
      ],
      "execution_count": null,
      "outputs": []
    },
    {
      "cell_type": "code",
      "metadata": {
        "id": "6cEauvNxtl-4"
      },
      "source": [
        "# Examine variable type\n",
        "insurance.dtypes"
      ],
      "execution_count": null,
      "outputs": []
    },
    {
      "cell_type": "code",
      "metadata": {
        "id": "0F9GvPQFtl-4"
      },
      "source": [
        "# Change categorical variables to \"category\"\n",
        "insurance['sex'] = insurance['sex'].astype('category')\n",
        "insurance['smoker'] = insurance['smoker'].astype('category')\n",
        "insurance['region'] = insurance['region'].astype('category')"
      ],
      "execution_count": null,
      "outputs": []
    },
    {
      "cell_type": "code",
      "metadata": {
        "id": "8ZKoWREctl-4"
      },
      "source": [
        "# Examine variable type\n",
        "insurance.dtypes"
      ],
      "execution_count": null,
      "outputs": []
    },
    {
      "cell_type": "code",
      "metadata": {
        "id": "UzKcJa847XtX"
      },
      "source": [
        "# Data exploration: some examples\n",
        "# Histogram of insurance expenses\n",
        "snsplot = sns.histplot(x='expenses', data = insurance)\n",
        "snsplot.set_title(\"Histogram of expenses in the insurance data set\")"
      ],
      "execution_count": null,
      "outputs": []
    },
    {
      "cell_type": "code",
      "metadata": {
        "id": "DOeahm-d7eqy"
      },
      "source": [
        "# exploring relationships among all numeric variables: correlation matrix\n",
        "insurance.corr()"
      ],
      "execution_count": null,
      "outputs": []
    },
    {
      "cell_type": "markdown",
      "metadata": {
        "id": "BzzGngi-tl-5"
      },
      "source": [
        "### Partition the data set for regression model"
      ]
    },
    {
      "cell_type": "code",
      "metadata": {
        "id": "x_HJEbCutl-5"
      },
      "source": [
        "# Create dummy variables\n"
      ],
      "execution_count": null,
      "outputs": []
    },
    {
      "cell_type": "code",
      "metadata": {
        "id": "OCGDY7astl-5"
      },
      "source": [
        "# Partition the data\n"
      ],
      "execution_count": null,
      "outputs": []
    },
    {
      "cell_type": "code",
      "metadata": {
        "id": "LoY4Wl88tl-5"
      },
      "source": [
        "# Examine the distribution of target variable for training data set\n"
      ],
      "execution_count": null,
      "outputs": []
    },
    {
      "cell_type": "code",
      "metadata": {
        "id": "teZ5RgTitl-5"
      },
      "source": [
        "# Examine the distribution of target variable for testing data set\n"
      ],
      "execution_count": null,
      "outputs": []
    },
    {
      "cell_type": "markdown",
      "metadata": {
        "id": "tWwXb1A2UKWQ"
      },
      "source": [
        "### Multiple linear regression"
      ]
    },
    {
      "cell_type": "code",
      "metadata": {
        "id": "8GGi-hmlUKWR"
      },
      "source": [
        "# Build a multiple linear regression model with all predictors\n"
      ],
      "execution_count": null,
      "outputs": []
    },
    {
      "cell_type": "code",
      "metadata": {
        "id": "jGgPdIZJUKWR"
      },
      "source": [
        "# Show model summary\n"
      ],
      "execution_count": null,
      "outputs": []
    },
    {
      "cell_type": "markdown",
      "metadata": {
        "id": "foysXHb5Vcu2"
      },
      "source": [
        "Q4. How the expenses change when we increase the bmi by 1? <br>\n"
      ]
    },
    {
      "cell_type": "code",
      "metadata": {
        "id": "w8grK6gzUKWS"
      },
      "source": [
        "# Make predictions on training and testing data\n"
      ],
      "execution_count": null,
      "outputs": []
    },
    {
      "cell_type": "code",
      "source": [
        "# Examine the evaluation results on training data: MAE and RMSE\n"
      ],
      "metadata": {
        "id": "Vubgcsj_aRfQ"
      },
      "execution_count": null,
      "outputs": []
    },
    {
      "cell_type": "code",
      "metadata": {
        "id": "hErfOCdMUKWS"
      },
      "source": [
        "# Examine the evaluation results on testing data: MAE and RMSE\n"
      ],
      "execution_count": null,
      "outputs": []
    },
    {
      "cell_type": "code",
      "source": [
        "!jupyter nbconvert --to html \"/content/drive/MyDrive/DL_lab/Lab2: Classification and Numeric Prediction.ipynb\""
      ],
      "metadata": {
        "id": "4PCevx1-wkIF"
      },
      "execution_count": null,
      "outputs": []
    }
  ]
}