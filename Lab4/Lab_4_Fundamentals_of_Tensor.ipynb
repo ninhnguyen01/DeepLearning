{
  "nbformat": 4,
  "nbformat_minor": 0,
  "metadata": {
    "colab": {
      "provenance": [],
      "collapsed_sections": [],
      "toc_visible": true
    },
    "kernelspec": {
      "name": "python3",
      "display_name": "Python 3"
    },
    "language_info": {
      "name": "python"
    },
    "gpuClass": "standard"
  },
  "cells": [
    {
      "cell_type": "markdown",
      "metadata": {
        "id": "13Ewpcs3Nv9t"
      },
      "source": [
        "#Lab 4: Fundamentals of Tensor\n",
        "\n",
        "---\n"
      ]
    },
    {
      "cell_type": "markdown",
      "source": [
        "##Basic operations"
      ],
      "metadata": {
        "id": "Onm3Yt1Rkyn2"
      }
    },
    {
      "cell_type": "code",
      "source": [
        "# Construct a one-dimensional tensor\n",
        "import torch \n",
        "a = torch.ones(3) # Create a one-dimensional tensor of size 3 filled with 1s\n",
        "a"
      ],
      "metadata": {
        "id": "4cG6VVa2Dfzl"
      },
      "execution_count": null,
      "outputs": []
    },
    {
      "cell_type": "code",
      "execution_count": null,
      "metadata": {
        "id": "nxs6IAEYC3JI"
      },
      "outputs": [],
      "source": [
        "# Access an individual element in the tensor\n"
      ]
    },
    {
      "cell_type": "code",
      "execution_count": null,
      "metadata": {
        "id": "kVnk-hMbC3JJ"
      },
      "outputs": [],
      "source": [
        "# Assign a value to the thrid element of tensor\n"
      ]
    },
    {
      "cell_type": "code",
      "execution_count": null,
      "metadata": {
        "id": "BwLN1IfkC3JK"
      },
      "outputs": [],
      "source": [
        "# Create a tensor and assign values to the tensor\n"
      ]
    },
    {
      "cell_type": "code",
      "execution_count": 1,
      "metadata": {
        "id": "P5ZE7-hsC3JK"
      },
      "outputs": [],
      "source": [
        "# Pass a Python list to the constructor\n"
      ]
    },
    {
      "cell_type": "code",
      "execution_count": null,
      "metadata": {
        "id": "U6hB1hLOC3JL"
      },
      "outputs": [],
      "source": [
        "# Create a 2D tensor\n"
      ]
    },
    {
      "cell_type": "code",
      "execution_count": null,
      "metadata": {
        "id": "x4w5x-ExC3JL"
      },
      "outputs": [],
      "source": [
        "# Examine the shape\n"
      ]
    },
    {
      "cell_type": "code",
      "execution_count": null,
      "metadata": {
        "id": "C1DX-l39C3JL"
      },
      "outputs": [],
      "source": [
        "# Use zeros or ones to initialize the tensor\n"
      ]
    },
    {
      "cell_type": "code",
      "execution_count": null,
      "metadata": {
        "id": "9ucO9ue1C3JM"
      },
      "outputs": [],
      "source": [
        "# Pass a list of lists to the constructor\n"
      ]
    },
    {
      "cell_type": "code",
      "execution_count": null,
      "metadata": {
        "id": "0cx5eaXnC3JM"
      },
      "outputs": [],
      "source": [
        "# Access an individual element in the tensor using two indices\n",
        " # The output is another tensor"
      ]
    },
    {
      "cell_type": "code",
      "execution_count": null,
      "metadata": {
        "id": "aXn2AZKRC3JM"
      },
      "outputs": [],
      "source": [
        "# Access the first rwo of data\n",
        " # The output is another tensor: the new tensor is a 1D tensor of size 2, referencing the values of the first row in the points tensor"
      ]
    },
    {
      "cell_type": "code",
      "execution_count": null,
      "metadata": {
        "id": "L2CJeG4jC3JO"
      },
      "outputs": [],
      "source": [
        "# The subtensor (points[1]) is indexing the same storage as the original tensor\n"
      ]
    },
    {
      "cell_type": "code",
      "execution_count": null,
      "metadata": {
        "id": "Y4CGzd2KC3JO"
      },
      "outputs": [],
      "source": [
        "# Clone the subtensor into a new tensor\n"
      ]
    },
    {
      "cell_type": "markdown",
      "source": [
        "##Managing a tensor’s dtype attribute<br>"
      ],
      "metadata": {
        "id": "EIHQfbI9eoz0"
      }
    },
    {
      "cell_type": "code",
      "execution_count": null,
      "metadata": {
        "id": "tS3hT9JVC3JQ"
      },
      "outputs": [],
      "source": [
        "# Create two tensors with dtype=torch.double and torch.short\n"
      ]
    },
    {
      "cell_type": "code",
      "source": [
        "# Examine a tensor's data type\n"
      ],
      "metadata": {
        "id": "p4h202BvfPLU"
      },
      "execution_count": null,
      "outputs": []
    },
    {
      "cell_type": "code",
      "execution_count": null,
      "metadata": {
        "id": "dacgNZ0aC3JQ"
      },
      "outputs": [],
      "source": [
        "# Convert data type using \"to\" method\n"
      ]
    },
    {
      "cell_type": "markdown",
      "source": [
        "##Transposing a tensor"
      ],
      "metadata": {
        "id": "78kPbv3khF6R"
      }
    },
    {
      "cell_type": "code",
      "execution_count": null,
      "metadata": {
        "id": "YRwXkU0vC3JO"
      },
      "outputs": [],
      "source": [
        "# Create a 2D tensor\n"
      ]
    },
    {
      "cell_type": "code",
      "execution_count": null,
      "metadata": {
        "id": "Z2zz6aDFC3JO"
      },
      "outputs": [],
      "source": [
        "# Transpose the tensor\n"
      ]
    },
    {
      "cell_type": "code",
      "source": [
        "# The transposed tensor shares the same storage\n"
      ],
      "metadata": {
        "id": "oNG89gUcC-_5"
      },
      "execution_count": null,
      "outputs": []
    },
    {
      "cell_type": "code",
      "execution_count": null,
      "metadata": {
        "id": "hTtxsi6IC3JP"
      },
      "outputs": [],
      "source": [
        "# Transpose in higher dimensions\n"
      ]
    },
    {
      "cell_type": "code",
      "execution_count": null,
      "metadata": {
        "id": "1oOvyIzcC3JP"
      },
      "outputs": [],
      "source": [
        "# The transposed tensor shares the same storage\n"
      ]
    },
    {
      "cell_type": "markdown",
      "metadata": {
        "id": "oM_8ELnJq_wd"
      },
      "source": [
        "## Enabling and testing the GPU\n",
        "\n",
        "First, you'll need to enable GPUs for the notebook:\n",
        "\n",
        "- Navigate to Edit→Notebook Settings\n",
        "- select GPU from the Hardware Accelerator drop-down"
      ]
    },
    {
      "cell_type": "code",
      "execution_count": null,
      "metadata": {
        "id": "WWpAbKU0C3JR"
      },
      "outputs": [],
      "source": [
        "# Create a tensor on the GPU\n"
      ]
    },
    {
      "cell_type": "code",
      "execution_count": null,
      "metadata": {
        "id": "hnp8DZeIC3JR"
      },
      "outputs": [],
      "source": [
        "# Copy a tensor created on the CPU onto the GPU using the \"to\" method\n"
      ]
    },
    {
      "cell_type": "code",
      "execution_count": null,
      "metadata": {
        "id": "ivKtYrqiC3JR"
      },
      "outputs": [],
      "source": [
        "# At this point, any operation performed on the tensor, such as multiplying all elements by a constant, is carried out on the GPU\n"
      ]
    },
    {
      "cell_type": "code",
      "execution_count": null,
      "metadata": {
        "id": "kmz86bZ9C3JS"
      },
      "outputs": [],
      "source": [
        "# move the tensor back to the CPU\n"
      ]
    },
    {
      "cell_type": "code",
      "execution_count": null,
      "metadata": {
        "id": "7C-qdHO2C3JS"
      },
      "outputs": [],
      "source": [
        "# Use the shorthand methods cpu and cuda instead of the to method\n"
      ]
    },
    {
      "cell_type": "markdown",
      "source": [
        "##Save and load tensors"
      ],
      "metadata": {
        "id": "Y2PpBdlxidMc"
      }
    },
    {
      "cell_type": "code",
      "execution_count": null,
      "metadata": {
        "id": "edGSFxTjC3JR"
      },
      "outputs": [],
      "source": [
        "# Save the tensor\n"
      ]
    },
    {
      "cell_type": "code",
      "execution_count": null,
      "metadata": {
        "id": "gpIPDVbqC3JR"
      },
      "outputs": [],
      "source": [
        "# Load the tensor\n"
      ]
    },
    {
      "cell_type": "markdown",
      "source": [
        "## Representing tabular data"
      ],
      "metadata": {
        "id": "p2bDxW62jRUg"
      }
    },
    {
      "cell_type": "code",
      "execution_count": null,
      "metadata": {
        "id": "z0JOGc28C3JR"
      },
      "outputs": [],
      "source": [
        "# Mounting Google Drive\n",
        "from google.colab import drive\n",
        "drive.mount('/content/drive')"
      ]
    },
    {
      "cell_type": "code",
      "execution_count": null,
      "metadata": {
        "id": "m6MNzMfdC3JR"
      },
      "outputs": [],
      "source": [
        "# Read data\n",
        "import pandas as pd\n",
        "carAuction = pd.read_csv(\"/content/drive/MyDrive/DL_data/carAuction.csv\")\n",
        "carAuction"
      ]
    },
    {
      "cell_type": "code",
      "source": [
        "# Create dummy variables\n"
      ],
      "metadata": {
        "id": "O8__2aUSPpa0"
      },
      "execution_count": null,
      "outputs": []
    },
    {
      "cell_type": "code",
      "source": [
        "# Apply standardization\n"
      ],
      "metadata": {
        "id": "etVDIM-Lln5X"
      },
      "execution_count": null,
      "outputs": []
    },
    {
      "cell_type": "code",
      "source": [
        "# Create tensors from pandas dataframe\n"
      ],
      "metadata": {
        "id": "p96a0uVEPkcV"
      },
      "execution_count": null,
      "outputs": []
    },
    {
      "cell_type": "code",
      "source": [
        "# From tensor to pandas dataframe\n"
      ],
      "metadata": {
        "id": "-JSXXetUWYWh"
      },
      "execution_count": null,
      "outputs": []
    },
    {
      "cell_type": "code",
      "source": [
        "!jupyter nbconvert --to html \"/content/drive/MyDrive/DL_lab/Lab 4: Fundamentals of Tensor.ipynb\""
      ],
      "metadata": {
        "id": "4PCevx1-wkIF"
      },
      "execution_count": 4,
      "outputs": []
    }
  ]
}